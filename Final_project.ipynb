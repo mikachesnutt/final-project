{
 "cells": [
  {
   "cell_type": "code",
   "execution_count": 1,
   "metadata": {},
   "outputs": [],
   "source": [
    "import numpy as np \n",
    "import pandas as pd\n",
    "import nltk,re\n",
    "from nltk.corpus import stopwords\n",
    "import matplotlib.pyplot as plt\n",
    "import gensim\n",
    "\n"
   ]
  },
  {
   "cell_type": "code",
   "execution_count": 2,
   "metadata": {},
   "outputs": [
    {
     "ename": "FileNotFoundError",
     "evalue": "[Errno 2] No such file or directory: '.txt'",
     "output_type": "error",
     "traceback": [
      "\u001b[0;31m---------------------------------------------------------------------------\u001b[0m",
      "\u001b[0;31mFileNotFoundError\u001b[0m                         Traceback (most recent call last)",
      "\u001b[0;32m<ipython-input-2-ac60aec748f9>\u001b[0m in \u001b[0;36m<module>\u001b[0;34m()\u001b[0m\n\u001b[1;32m      1\u001b[0m \u001b[0mresume_txt\u001b[0m \u001b[0;34m=\u001b[0m \u001b[0;34m\"\"\u001b[0m   \u001b[0;31m# where to store the full text of the resumes\u001b[0m\u001b[0;34m\u001b[0m\u001b[0m\n\u001b[1;32m      2\u001b[0m \u001b[0;34m\u001b[0m\u001b[0m\n\u001b[0;32m----> 3\u001b[0;31m \u001b[0mf\u001b[0m \u001b[0;34m=\u001b[0m \u001b[0mopen\u001b[0m\u001b[0;34m(\u001b[0m\u001b[0;34m\".txt\"\u001b[0m\u001b[0;34m)\u001b[0m\u001b[0;34m\u001b[0m\u001b[0m\n\u001b[0m\u001b[1;32m      4\u001b[0m \u001b[0mresume_txt\u001b[0m \u001b[0;34m=\u001b[0m \u001b[0mf\u001b[0m\u001b[0;34m.\u001b[0m\u001b[0mread\u001b[0m\u001b[0;34m(\u001b[0m\u001b[0;34m)\u001b[0m\u001b[0;34m\u001b[0m\u001b[0m\n\u001b[1;32m      5\u001b[0m \u001b[0;34m\u001b[0m\u001b[0m\n",
      "\u001b[0;31mFileNotFoundError\u001b[0m: [Errno 2] No such file or directory: '.txt'"
     ]
    }
   ],
   "source": [
    "resume_txt = \"\"   # where to store the full text of the resumes \n",
    "\n",
    "f = open(\".txt\")\n",
    "resume_txt = f.read()\n",
    "\n",
    "# read in the whole file into a string\n",
    "\n",
    "f.close()\n",
    "\n",
    "alltext = alltext.replace('\\n', ' ')\n",
    "\n",
    "\n",
    "# break the file into a list of sentences with nltk.sent_tokenize\n",
    "sentences = nltk.sent_tokenize(alltext)\n",
    "\n",
    "# break each sentence into a list of tokens with nltk.word_tokenize\n",
    "# store that list of lists in toksents\n",
    "for sentence in sentences:\n",
    "    word_token = nltk.word_tokenize(sentence)\n",
    "    toksents.append(word_token)\n",
    "\n",
    "\n",
    "# Uncomment the following to confirm your output is correct.\n",
    "print(toksents[1000])\n",
    "\n",
    "\n",
    "\n",
    "model = gensim.models.Word2Vec(toksents, size=100, window=5, min_count=5, workers=4)\n",
    "print(\"model built!\")\n",
    "\n",
    "\n",
    "#bt we need to find similarity between the job description and the resume \n",
    "model.wv.similarity('girl', 'woman')\n",
    "\n",
    "\n",
    "\n",
    "\n",
    "\n",
    "\n"
   ]
  },
  {
   "cell_type": "code",
   "execution_count": null,
   "metadata": {},
   "outputs": [],
   "source": []
  }
 ],
 "metadata": {
  "kernelspec": {
   "display_name": "Python 3",
   "language": "python",
   "name": "python3"
  },
  "language_info": {
   "codemirror_mode": {
    "name": "ipython",
    "version": 3
   },
   "file_extension": ".py",
   "mimetype": "text/x-python",
   "name": "python",
   "nbconvert_exporter": "python",
   "pygments_lexer": "ipython3",
   "version": "3.6.5"
  }
 },
 "nbformat": 4,
 "nbformat_minor": 2
}
